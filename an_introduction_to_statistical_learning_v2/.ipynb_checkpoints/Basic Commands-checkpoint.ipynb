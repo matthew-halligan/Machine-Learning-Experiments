{
 "cells": [
  {
   "cell_type": "code",
   "execution_count": 5,
   "id": "6d51bca4",
   "metadata": {},
   "outputs": [],
   "source": [
    "import matplotlib\n",
    "import numpy as np"
   ]
  },
  {
   "cell_type": "code",
   "execution_count": 11,
   "id": "29017daa",
   "metadata": {},
   "outputs": [
    {
     "name": "stdout",
     "output_type": "stream",
     "text": [
      "vector_row: [1 2 3 4]\n",
      "\n",
      "vector_column: [[1]\n",
      " [2]\n",
      " [3]\n",
      " [4]]\n"
     ]
    }
   ],
   "source": [
    "#create a new vector with 4 integers\n",
    "\n",
    "# Create a vector as a row\n",
    "vector_row = np.array([1, 2, 3, 4])\n",
    "\n",
    "# Create a vector as a column\n",
    "vector_column = np.array([[1],\n",
    "                          [2],\n",
    "                          [3],\n",
    "                          [4]])\n",
    "print(f\"vector_row: {vector_row}\\n\")\n",
    "\n",
    "print(f\"vector_column: {vector_column}\")"
   ]
  },
  {
   "cell_type": "code",
   "execution_count": 14,
   "id": "825ad1c9",
   "metadata": {},
   "outputs": [
    {
     "name": "stdout",
     "output_type": "stream",
     "text": [
      "4\n",
      "4\n"
     ]
    },
    {
     "data": {
      "text/plain": [
       "array([[2, 3, 4, 5],\n",
       "       [3, 4, 5, 6],\n",
       "       [4, 5, 6, 7],\n",
       "       [5, 6, 7, 8]])"
      ]
     },
     "execution_count": 14,
     "metadata": {},
     "output_type": "execute_result"
    }
   ],
   "source": [
    "# Print the Length of a vector\n",
    "print(len(vector_row))\n",
    "print(len(vector_column))\n",
    "\n",
    "#Perform Matrix Addition on vector_column and vector_row\n",
    "vector_column + vector_row"
   ]
  },
  {
   "cell_type": "code",
   "execution_count": 17,
   "id": "aaa8ec5e",
   "metadata": {},
   "outputs": [],
   "source": [
    "# Get a list of all initialized objects such as data and function\n",
    "#locals()\n",
    "# globals()\n"
   ]
  },
  {
   "cell_type": "code",
   "execution_count": 35,
   "id": "6f38a7be",
   "metadata": {},
   "outputs": [],
   "source": [
    "# Generate a vector of random normal variables\n",
    "mean, standard_deviation = 50, 0.1\n",
    "samples_drawn = 50\n",
    "rand_norm_vector_x = np.random.normal(mean, standard_deviation, samples_drawn)\n",
    "#print(rand_norm_vector_x)"
   ]
  },
  {
   "cell_type": "code",
   "execution_count": 36,
   "id": "87f4c487",
   "metadata": {},
   "outputs": [
    {
     "name": "stdout",
     "output_type": "stream",
     "text": [
      "[[1.        0.7166407]\n",
      " [0.7166407 1.       ]]\n"
     ]
    }
   ],
   "source": [
    "# Compute the Correlation between two vectors\n",
    "#https://realpython.com/numpy-scipy-pandas-correlation-python/\n",
    "rand_norm_vector_y = rand_norm_vector_x + np.random.normal(mean, standard_deviation, samples_drawn)\n",
    "correlation = np.corrcoef(rand_norm_vector_x, rand_norm_vector_y)\n",
    "print(f\"{correlation}\")"
   ]
  },
  {
   "cell_type": "code",
   "execution_count": 37,
   "id": "d6de2dad",
   "metadata": {},
   "outputs": [],
   "source": [
    "# set the seed for a random normal vector\n",
    "np.random.seed(1303)\n",
    "rand_norm_vector_z = np.random.normal(mean, standard_deviation, samples_drawn)\n",
    "\n",
    "#print(rand_norm_vector_z)"
   ]
  },
  {
   "cell_type": "code",
   "execution_count": null,
   "id": "58375a2c",
   "metadata": {},
   "outputs": [],
   "source": []
  }
 ],
 "metadata": {
  "kernelspec": {
   "display_name": "Python 3 (ipykernel)",
   "language": "python",
   "name": "python3"
  },
  "language_info": {
   "codemirror_mode": {
    "name": "ipython",
    "version": 3
   },
   "file_extension": ".py",
   "mimetype": "text/x-python",
   "name": "python",
   "nbconvert_exporter": "python",
   "pygments_lexer": "ipython3",
   "version": "3.8.10"
  }
 },
 "nbformat": 4,
 "nbformat_minor": 5
}
